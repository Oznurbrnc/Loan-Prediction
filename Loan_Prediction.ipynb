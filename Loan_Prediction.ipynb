{
 "cells": [
  {
   "cell_type": "code",
   "execution_count": 1,
   "metadata": {
    "id": "LqC3aB9QQ2iv"
   },
   "outputs": [],
   "source": [
    "import pandas as pd\n",
    "pd.set_option(\"display.max_columns\",100)\n",
    "import warnings\n",
    "warnings.filterwarnings(\"ignore\") #pembe uyarıları kaldırır.\n",
    "import matplotlib.pyplot as plt\n",
    "import numpy as np"
   ]
  },
  {
   "cell_type": "markdown",
   "metadata": {
    "id": "rNMOA_GqSOrs"
   },
   "source": [
    "Data Dictionary \n",
    "\n",
    " \n",
    "\n",
    "The dataset consists of the following fields: \n",
    "\n",
    "• Loan ID: A unique Identifier for the loan information. \n",
    "#• Kredi Kimliği: Kredi bilgileri için benzersiz bir Tanımlayıcı.\n",
    "\n",
    "• Customer ID: A unique identifier for the customer. Customers may have more than one loan. \n",
    "#• Müşteri Kimliği: Müşteri için benzersiz bir tanımlayıcı. Müşterilerin birden fazla kredisi olabilir.\n",
    "\n",
    "\n",
    "• Loan Status: A categorical variable indicating if the loan was paid back or defaulted. \n",
    "#• Kredi Durumu: Kredinin geri ödenip ödenmediğini veya temerrüde düşüp düşmediğini gösteren kategorik bir değişken.\n",
    "\n",
    "• Current Loan Amount: This is the loan amount that was either completely paid off, or the amount that was defaulted. \n",
    "#• Cari Kredi Tutarı: Tamamı kapatılan veya temerrüde düşen kredi tutarıdır.\n",
    "\n",
    "\n",
    "• Term: A categorical variable indicating if it is a short term or long term loan. \n",
    "#• Vade: Kredinin kısa vadeli mi yoksa uzun vadeli mi olduğunu gösteren kategorik bir değişkendir.\n",
    "\n",
    "\n",
    "• Credit Score: A value between 0 and 800 indicating the riskiness of the borrowers credit history. \n",
    "#• Kredi Puanı: Borçlunun kredi geçmişinin riskliliğini gösteren 0 ile 800 arasında bir değer.\n",
    "\n",
    "\n",
    "• Years in current job: A categorical variable indicating how many years the customer has been in their current job. \n",
    "# Mevcut işteki yıl sayısı: Müşterinin mevcut işinde kaç yıldır çalıştığını gösteren kategorik bir değişken.\n",
    "\n",
    "\n",
    "• Home Ownership: Categorical variable indicating home ownership. Values are \"Rent\", \"Home Mortgage\", and \"Own\". If the value is OWN, then the customer is a home owner with no mortgage \n",
    "#• Ev Sahipliği: Ev sahipliğini gösteren kategorik değişken. Değerler \"Kira\", \"Ev İpoteği\" ve \"Sahip Olun\" şeklindedir. Değer KENDİ ise, müşteri ipoteği olmayan bir ev sahibidir.\n",
    "\n",
    "\n",
    "• Annual Income: The customer's annual income \n",
    "#• Yıllık Gelir: Müşterinin yıllık geliri\n",
    "\n",
    "\n",
    "• Purpose: A description of the purpose of the loan. \n",
    "# Amaç: Kredinin amacının açıklaması.\n",
    "\n",
    "• Monthly Debt: The customer's monthly payment for their existing loans \n",
    "#• Aylık Borç: Müşterinin mevcut kredileri için aylık ödemesi\n",
    "\n",
    "• Years of Credit History: The years since the first entry in the customer’s credit history • Months since last delinquent: Months since the last loan delinquent payment \n",
    "#• Kredi Geçmişi Yılı: Müşterinin kredi geçmişindeki ilk girişten bu yana geçen yıl sayısı • Son temerrüde düşme tarihinden bu yana geçen ay sayısı: Son gecikmiş kredi ödemesinden bu yana geçen ay sayısı\n",
    "\n",
    "\n",
    "• Number of Open Accounts: The total number of open credit cards \n",
    "#• Açık Hesap Sayısı: Toplam açık kredi kartı sayısı\n",
    "\n",
    "\n",
    "• Number of Credit Problems: The number of credit problems in the customer records. \n",
    "#• Kredi Problem Sayısı: Müşteri kayıtlarındaki kredi problem sayısıdır.\n",
    "\n",
    "\n",
    "• Current Credit Balance: The current total debt for the customer \n",
    "#• Mevcut Kredi Bakiyesi: Müşterinin mevcut toplam borcu\n",
    "\n",
    "• Maximum Open Credit: The maximum credit limit for all credit sources. \n",
    "#• Maksimum Açık Kredi: Tüm kredi kaynakları için maksimum kredi limiti.\n",
    "\n",
    "• Bankruptcies: The number of bankruptcies \n",
    "#• İflaslar: İflas sayısı\n",
    "\n",
    "• Tax Liens: The number of tax liens. \n",
    "#• Vergi Liens: Vergi hacizlerinin sayısı.\n",
    "\n",
    " "
   ]
  },
  {
   "cell_type": "code",
   "execution_count": 2,
   "metadata": {
    "id": "px3lPFTJQ7Xp"
   },
   "outputs": [],
   "source": [
    "df=pd.read_csv(\"LoansTrainingSet.csv\")"
   ]
  },
  {
   "cell_type": "code",
   "execution_count": 3,
   "metadata": {
    "colab": {
     "base_uri": "https://localhost:8080/",
     "height": 988
    },
    "id": "wKWVS-VsRbJT",
    "outputId": "3c8895a5-f68c-4ffb-b1ab-4cc29f3a7c0d"
   },
   "outputs": [
    {
     "data": {
      "text/html": [
       "<div>\n",
       "<style scoped>\n",
       "    .dataframe tbody tr th:only-of-type {\n",
       "        vertical-align: middle;\n",
       "    }\n",
       "\n",
       "    .dataframe tbody tr th {\n",
       "        vertical-align: top;\n",
       "    }\n",
       "\n",
       "    .dataframe thead th {\n",
       "        text-align: right;\n",
       "    }\n",
       "</style>\n",
       "<table border=\"1\" class=\"dataframe\">\n",
       "  <thead>\n",
       "    <tr style=\"text-align: right;\">\n",
       "      <th></th>\n",
       "      <th>Loan ID</th>\n",
       "      <th>Customer ID</th>\n",
       "      <th>Loan Status</th>\n",
       "      <th>Current Loan Amount</th>\n",
       "      <th>Term</th>\n",
       "      <th>Credit Score</th>\n",
       "      <th>Years in current job</th>\n",
       "      <th>Home Ownership</th>\n",
       "      <th>Annual Income</th>\n",
       "      <th>Purpose</th>\n",
       "      <th>Monthly Debt</th>\n",
       "      <th>Years of Credit History</th>\n",
       "      <th>Months since last delinquent</th>\n",
       "      <th>Number of Open Accounts</th>\n",
       "      <th>Number of Credit Problems</th>\n",
       "      <th>Current Credit Balance</th>\n",
       "      <th>Maximum Open Credit</th>\n",
       "      <th>Bankruptcies</th>\n",
       "      <th>Tax Liens</th>\n",
       "    </tr>\n",
       "  </thead>\n",
       "  <tbody>\n",
       "    <tr>\n",
       "      <th>0</th>\n",
       "      <td>000025bb-5694-4cff-b17d-192b1a98ba44</td>\n",
       "      <td>5ebc8bb1-5eb9-4404-b11b-a6eebc401a19</td>\n",
       "      <td>Fully Paid</td>\n",
       "      <td>11520</td>\n",
       "      <td>Short Term</td>\n",
       "      <td>741.0</td>\n",
       "      <td>10+ years</td>\n",
       "      <td>Home Mortgage</td>\n",
       "      <td>33694.0</td>\n",
       "      <td>Debt Consolidation</td>\n",
       "      <td>$584.03</td>\n",
       "      <td>12.3</td>\n",
       "      <td>41.0</td>\n",
       "      <td>10</td>\n",
       "      <td>0</td>\n",
       "      <td>6760</td>\n",
       "      <td>16056</td>\n",
       "      <td>0.0</td>\n",
       "      <td>0.0</td>\n",
       "    </tr>\n",
       "    <tr>\n",
       "      <th>1</th>\n",
       "      <td>00002c49-3a29-4bd4-8f67-c8f8fbc1048c</td>\n",
       "      <td>927b388d-2e01-423f-a8dc-f7e42d668f46</td>\n",
       "      <td>Fully Paid</td>\n",
       "      <td>3441</td>\n",
       "      <td>Short Term</td>\n",
       "      <td>734.0</td>\n",
       "      <td>4 years</td>\n",
       "      <td>Home Mortgage</td>\n",
       "      <td>42269.0</td>\n",
       "      <td>other</td>\n",
       "      <td>$1,106.04</td>\n",
       "      <td>26.3</td>\n",
       "      <td>NaN</td>\n",
       "      <td>17</td>\n",
       "      <td>0</td>\n",
       "      <td>6262</td>\n",
       "      <td>19149</td>\n",
       "      <td>0.0</td>\n",
       "      <td>0.0</td>\n",
       "    </tr>\n",
       "    <tr>\n",
       "      <th>2</th>\n",
       "      <td>00002d89-27f3-409b-aa76-90834f359a65</td>\n",
       "      <td>defce609-c631-447d-aad6-1270615e89c4</td>\n",
       "      <td>Fully Paid</td>\n",
       "      <td>21029</td>\n",
       "      <td>Short Term</td>\n",
       "      <td>747.0</td>\n",
       "      <td>10+ years</td>\n",
       "      <td>Home Mortgage</td>\n",
       "      <td>90126.0</td>\n",
       "      <td>Debt Consolidation</td>\n",
       "      <td>$1,321.85</td>\n",
       "      <td>28.8</td>\n",
       "      <td>NaN</td>\n",
       "      <td>5</td>\n",
       "      <td>0</td>\n",
       "      <td>20967</td>\n",
       "      <td>28335</td>\n",
       "      <td>0.0</td>\n",
       "      <td>0.0</td>\n",
       "    </tr>\n",
       "    <tr>\n",
       "      <th>3</th>\n",
       "      <td>00005222-b4d8-45a4-ad8c-186057e24233</td>\n",
       "      <td>070bcecb-aae7-4485-a26a-e0403e7bb6c5</td>\n",
       "      <td>Fully Paid</td>\n",
       "      <td>18743</td>\n",
       "      <td>Short Term</td>\n",
       "      <td>747.0</td>\n",
       "      <td>10+ years</td>\n",
       "      <td>Own Home</td>\n",
       "      <td>38072.0</td>\n",
       "      <td>Debt Consolidation</td>\n",
       "      <td>$751.92</td>\n",
       "      <td>26.2</td>\n",
       "      <td>NaN</td>\n",
       "      <td>9</td>\n",
       "      <td>0</td>\n",
       "      <td>22529</td>\n",
       "      <td>43915</td>\n",
       "      <td>0.0</td>\n",
       "      <td>0.0</td>\n",
       "    </tr>\n",
       "    <tr>\n",
       "      <th>4</th>\n",
       "      <td>0000757f-a121-41ed-b17b-162e76647c1f</td>\n",
       "      <td>dde79588-12f0-4811-bab0-e2b07f633fcd</td>\n",
       "      <td>Fully Paid</td>\n",
       "      <td>11731</td>\n",
       "      <td>Short Term</td>\n",
       "      <td>746.0</td>\n",
       "      <td>4 years</td>\n",
       "      <td>Rent</td>\n",
       "      <td>50025.0</td>\n",
       "      <td>Debt Consolidation</td>\n",
       "      <td>$355.18</td>\n",
       "      <td>11.5</td>\n",
       "      <td>NaN</td>\n",
       "      <td>12</td>\n",
       "      <td>0</td>\n",
       "      <td>17391</td>\n",
       "      <td>37081</td>\n",
       "      <td>0.0</td>\n",
       "      <td>0.0</td>\n",
       "    </tr>\n",
       "    <tr>\n",
       "      <th>...</th>\n",
       "      <td>...</td>\n",
       "      <td>...</td>\n",
       "      <td>...</td>\n",
       "      <td>...</td>\n",
       "      <td>...</td>\n",
       "      <td>...</td>\n",
       "      <td>...</td>\n",
       "      <td>...</td>\n",
       "      <td>...</td>\n",
       "      <td>...</td>\n",
       "      <td>...</td>\n",
       "      <td>...</td>\n",
       "      <td>...</td>\n",
       "      <td>...</td>\n",
       "      <td>...</td>\n",
       "      <td>...</td>\n",
       "      <td>...</td>\n",
       "      <td>...</td>\n",
       "      <td>...</td>\n",
       "    </tr>\n",
       "    <tr>\n",
       "      <th>256979</th>\n",
       "      <td>fffef5b7-be99-4666-ac70-2a397d2ee435</td>\n",
       "      <td>7211a8e3-cba4-4132-b939-222eed8a662c</td>\n",
       "      <td>Fully Paid</td>\n",
       "      <td>3911</td>\n",
       "      <td>Short Term</td>\n",
       "      <td>NaN</td>\n",
       "      <td>2 years</td>\n",
       "      <td>Rent</td>\n",
       "      <td>NaN</td>\n",
       "      <td>Debt Consolidation</td>\n",
       "      <td>$1,706.58</td>\n",
       "      <td>19.9</td>\n",
       "      <td>NaN</td>\n",
       "      <td>16</td>\n",
       "      <td>0</td>\n",
       "      <td>43992</td>\n",
       "      <td>44080</td>\n",
       "      <td>0.0</td>\n",
       "      <td>0.0</td>\n",
       "    </tr>\n",
       "    <tr>\n",
       "      <th>256980</th>\n",
       "      <td>ffffca93-aa8c-4123-b8ff-7852f6df889a</td>\n",
       "      <td>616fef0c-8f09-4327-9b5c-48fcfaa52934</td>\n",
       "      <td>Fully Paid</td>\n",
       "      <td>5078</td>\n",
       "      <td>Short Term</td>\n",
       "      <td>737.0</td>\n",
       "      <td>10+ years</td>\n",
       "      <td>Own Home</td>\n",
       "      <td>77186.0</td>\n",
       "      <td>Debt Consolidation</td>\n",
       "      <td>$1,376.47</td>\n",
       "      <td>19.1</td>\n",
       "      <td>47.0</td>\n",
       "      <td>9</td>\n",
       "      <td>0</td>\n",
       "      <td>1717</td>\n",
       "      <td>9758</td>\n",
       "      <td>0.0</td>\n",
       "      <td>0.0</td>\n",
       "    </tr>\n",
       "    <tr>\n",
       "      <th>256981</th>\n",
       "      <td>ffffcb2e-e48e-4d2c-a0d6-ed6bce5bfdbe</td>\n",
       "      <td>971a6682-183b-4a52-8bce-1d3429ade295</td>\n",
       "      <td>Charged Off</td>\n",
       "      <td>12116</td>\n",
       "      <td>Short Term</td>\n",
       "      <td>7460.0</td>\n",
       "      <td>9 years</td>\n",
       "      <td>Home Mortgage</td>\n",
       "      <td>52504.0</td>\n",
       "      <td>Debt Consolidation</td>\n",
       "      <td>$297.96</td>\n",
       "      <td>15.1</td>\n",
       "      <td>82.0</td>\n",
       "      <td>8</td>\n",
       "      <td>0</td>\n",
       "      <td>3315</td>\n",
       "      <td>20090</td>\n",
       "      <td>0.0</td>\n",
       "      <td>0.0</td>\n",
       "    </tr>\n",
       "    <tr>\n",
       "      <th>256982</th>\n",
       "      <td>ffffcb2e-e48e-4d2c-a0d6-ed6bce5bfdbe</td>\n",
       "      <td>971a6682-183b-4a52-8bce-1d3429ade295</td>\n",
       "      <td>Charged Off</td>\n",
       "      <td>12116</td>\n",
       "      <td>Short Term</td>\n",
       "      <td>746.0</td>\n",
       "      <td>9 years</td>\n",
       "      <td>Home Mortgage</td>\n",
       "      <td>52504.0</td>\n",
       "      <td>Debt Consolidation</td>\n",
       "      <td>$297.96</td>\n",
       "      <td>15.1</td>\n",
       "      <td>82.0</td>\n",
       "      <td>8</td>\n",
       "      <td>0</td>\n",
       "      <td>3315</td>\n",
       "      <td>20090</td>\n",
       "      <td>0.0</td>\n",
       "      <td>0.0</td>\n",
       "    </tr>\n",
       "    <tr>\n",
       "      <th>256983</th>\n",
       "      <td>ffffe32e-ed17-459f-9cfd-7b9ee7972933</td>\n",
       "      <td>97281336-1e45-41d2-acb2-263ce56a590e</td>\n",
       "      <td>Fully Paid</td>\n",
       "      <td>27902</td>\n",
       "      <td>Long Term</td>\n",
       "      <td>678.0</td>\n",
       "      <td>10+ years</td>\n",
       "      <td>Home Mortgage</td>\n",
       "      <td>117480.0</td>\n",
       "      <td>Debt Consolidation</td>\n",
       "      <td>$2,525.82</td>\n",
       "      <td>18.0</td>\n",
       "      <td>11.0</td>\n",
       "      <td>10</td>\n",
       "      <td>0</td>\n",
       "      <td>28317</td>\n",
       "      <td>62371</td>\n",
       "      <td>0.0</td>\n",
       "      <td>0.0</td>\n",
       "    </tr>\n",
       "  </tbody>\n",
       "</table>\n",
       "<p>256984 rows × 19 columns</p>\n",
       "</div>"
      ],
      "text/plain": [
       "                                     Loan ID  \\\n",
       "0       000025bb-5694-4cff-b17d-192b1a98ba44   \n",
       "1       00002c49-3a29-4bd4-8f67-c8f8fbc1048c   \n",
       "2       00002d89-27f3-409b-aa76-90834f359a65   \n",
       "3       00005222-b4d8-45a4-ad8c-186057e24233   \n",
       "4       0000757f-a121-41ed-b17b-162e76647c1f   \n",
       "...                                      ...   \n",
       "256979  fffef5b7-be99-4666-ac70-2a397d2ee435   \n",
       "256980  ffffca93-aa8c-4123-b8ff-7852f6df889a   \n",
       "256981  ffffcb2e-e48e-4d2c-a0d6-ed6bce5bfdbe   \n",
       "256982  ffffcb2e-e48e-4d2c-a0d6-ed6bce5bfdbe   \n",
       "256983  ffffe32e-ed17-459f-9cfd-7b9ee7972933   \n",
       "\n",
       "                                 Customer ID  Loan Status  \\\n",
       "0       5ebc8bb1-5eb9-4404-b11b-a6eebc401a19   Fully Paid   \n",
       "1       927b388d-2e01-423f-a8dc-f7e42d668f46   Fully Paid   \n",
       "2       defce609-c631-447d-aad6-1270615e89c4   Fully Paid   \n",
       "3       070bcecb-aae7-4485-a26a-e0403e7bb6c5   Fully Paid   \n",
       "4       dde79588-12f0-4811-bab0-e2b07f633fcd   Fully Paid   \n",
       "...                                      ...          ...   \n",
       "256979  7211a8e3-cba4-4132-b939-222eed8a662c   Fully Paid   \n",
       "256980  616fef0c-8f09-4327-9b5c-48fcfaa52934   Fully Paid   \n",
       "256981  971a6682-183b-4a52-8bce-1d3429ade295  Charged Off   \n",
       "256982  971a6682-183b-4a52-8bce-1d3429ade295  Charged Off   \n",
       "256983  97281336-1e45-41d2-acb2-263ce56a590e   Fully Paid   \n",
       "\n",
       "        Current Loan Amount        Term  Credit Score Years in current job  \\\n",
       "0                     11520  Short Term         741.0            10+ years   \n",
       "1                      3441  Short Term         734.0              4 years   \n",
       "2                     21029  Short Term         747.0            10+ years   \n",
       "3                     18743  Short Term         747.0            10+ years   \n",
       "4                     11731  Short Term         746.0              4 years   \n",
       "...                     ...         ...           ...                  ...   \n",
       "256979                 3911  Short Term           NaN              2 years   \n",
       "256980                 5078  Short Term         737.0            10+ years   \n",
       "256981                12116  Short Term        7460.0              9 years   \n",
       "256982                12116  Short Term         746.0              9 years   \n",
       "256983                27902   Long Term         678.0            10+ years   \n",
       "\n",
       "       Home Ownership  Annual Income             Purpose Monthly Debt  \\\n",
       "0       Home Mortgage        33694.0  Debt Consolidation      $584.03   \n",
       "1       Home Mortgage        42269.0               other   $1,106.04    \n",
       "2       Home Mortgage        90126.0  Debt Consolidation   $1,321.85    \n",
       "3            Own Home        38072.0  Debt Consolidation      $751.92   \n",
       "4                Rent        50025.0  Debt Consolidation      $355.18   \n",
       "...               ...            ...                 ...          ...   \n",
       "256979           Rent            NaN  Debt Consolidation   $1,706.58    \n",
       "256980       Own Home        77186.0  Debt Consolidation   $1,376.47    \n",
       "256981  Home Mortgage        52504.0  Debt Consolidation      $297.96   \n",
       "256982  Home Mortgage        52504.0  Debt Consolidation      $297.96   \n",
       "256983  Home Mortgage       117480.0  Debt Consolidation   $2,525.82    \n",
       "\n",
       "        Years of Credit History  Months since last delinquent  \\\n",
       "0                          12.3                          41.0   \n",
       "1                          26.3                           NaN   \n",
       "2                          28.8                           NaN   \n",
       "3                          26.2                           NaN   \n",
       "4                          11.5                           NaN   \n",
       "...                         ...                           ...   \n",
       "256979                     19.9                           NaN   \n",
       "256980                     19.1                          47.0   \n",
       "256981                     15.1                          82.0   \n",
       "256982                     15.1                          82.0   \n",
       "256983                     18.0                          11.0   \n",
       "\n",
       "        Number of Open Accounts  Number of Credit Problems  \\\n",
       "0                            10                          0   \n",
       "1                            17                          0   \n",
       "2                             5                          0   \n",
       "3                             9                          0   \n",
       "4                            12                          0   \n",
       "...                         ...                        ...   \n",
       "256979                       16                          0   \n",
       "256980                        9                          0   \n",
       "256981                        8                          0   \n",
       "256982                        8                          0   \n",
       "256983                       10                          0   \n",
       "\n",
       "        Current Credit Balance Maximum Open Credit  Bankruptcies  Tax Liens  \n",
       "0                         6760               16056           0.0        0.0  \n",
       "1                         6262               19149           0.0        0.0  \n",
       "2                        20967               28335           0.0        0.0  \n",
       "3                        22529               43915           0.0        0.0  \n",
       "4                        17391               37081           0.0        0.0  \n",
       "...                        ...                 ...           ...        ...  \n",
       "256979                   43992               44080           0.0        0.0  \n",
       "256980                    1717                9758           0.0        0.0  \n",
       "256981                    3315               20090           0.0        0.0  \n",
       "256982                    3315               20090           0.0        0.0  \n",
       "256983                   28317               62371           0.0        0.0  \n",
       "\n",
       "[256984 rows x 19 columns]"
      ]
     },
     "execution_count": 3,
     "metadata": {},
     "output_type": "execute_result"
    }
   ],
   "source": [
    "df"
   ]
  },
  {
   "cell_type": "code",
   "execution_count": 4,
   "metadata": {
    "colab": {
     "base_uri": "https://localhost:8080/",
     "height": 945
    },
    "id": "s5-JLyvzReyM",
    "outputId": "16c8d843-d16e-47bf-e596-adbcc93cec39"
   },
   "outputs": [
    {
     "data": {
      "text/html": [
       "<div>\n",
       "<style scoped>\n",
       "    .dataframe tbody tr th:only-of-type {\n",
       "        vertical-align: middle;\n",
       "    }\n",
       "\n",
       "    .dataframe tbody tr th {\n",
       "        vertical-align: top;\n",
       "    }\n",
       "\n",
       "    .dataframe thead th {\n",
       "        text-align: right;\n",
       "    }\n",
       "</style>\n",
       "<table border=\"1\" class=\"dataframe\">\n",
       "  <thead>\n",
       "    <tr style=\"text-align: right;\">\n",
       "      <th></th>\n",
       "      <th>Loan ID</th>\n",
       "      <th>Customer ID</th>\n",
       "      <th>Loan Status</th>\n",
       "      <th>Current Loan Amount</th>\n",
       "      <th>Term</th>\n",
       "      <th>Credit Score</th>\n",
       "      <th>Years in current job</th>\n",
       "      <th>Home Ownership</th>\n",
       "      <th>Annual Income</th>\n",
       "      <th>Purpose</th>\n",
       "      <th>Monthly Debt</th>\n",
       "      <th>Years of Credit History</th>\n",
       "      <th>Months since last delinquent</th>\n",
       "      <th>Number of Open Accounts</th>\n",
       "      <th>Number of Credit Problems</th>\n",
       "      <th>Current Credit Balance</th>\n",
       "      <th>Maximum Open Credit</th>\n",
       "      <th>Bankruptcies</th>\n",
       "      <th>Tax Liens</th>\n",
       "    </tr>\n",
       "  </thead>\n",
       "  <tbody>\n",
       "    <tr>\n",
       "      <th>49549</th>\n",
       "      <td>313c9623-7cd5-4ce4-b0f9-061edda6e766</td>\n",
       "      <td>6cb91ec6-8d49-4296-88c9-47182c1f5a89</td>\n",
       "      <td>Fully Paid</td>\n",
       "      <td>8058</td>\n",
       "      <td>Short Term</td>\n",
       "      <td>NaN</td>\n",
       "      <td>2 years</td>\n",
       "      <td>Home Mortgage</td>\n",
       "      <td>NaN</td>\n",
       "      <td>Debt Consolidation</td>\n",
       "      <td>$1,245.65</td>\n",
       "      <td>14.3</td>\n",
       "      <td>64.0</td>\n",
       "      <td>15</td>\n",
       "      <td>0</td>\n",
       "      <td>8696</td>\n",
       "      <td>16919</td>\n",
       "      <td>0.0</td>\n",
       "      <td>0.0</td>\n",
       "    </tr>\n",
       "    <tr>\n",
       "      <th>28296</th>\n",
       "      <td>1c50477b-bbd9-4819-9559-4abe6f452bdc</td>\n",
       "      <td>37fb11b8-abe5-46e4-964a-a99c5acb4ab8</td>\n",
       "      <td>Fully Paid</td>\n",
       "      <td>25320</td>\n",
       "      <td>Short Term</td>\n",
       "      <td>747.0</td>\n",
       "      <td>10+ years</td>\n",
       "      <td>Home Mortgage</td>\n",
       "      <td>115459.0</td>\n",
       "      <td>Debt Consolidation</td>\n",
       "      <td>$2,107.13</td>\n",
       "      <td>21.6</td>\n",
       "      <td>54.0</td>\n",
       "      <td>17</td>\n",
       "      <td>0</td>\n",
       "      <td>22823</td>\n",
       "      <td>67926</td>\n",
       "      <td>0.0</td>\n",
       "      <td>0.0</td>\n",
       "    </tr>\n",
       "    <tr>\n",
       "      <th>171607</th>\n",
       "      <td>aa9ff141-96cb-4ad9-95a0-48ff5ded3180</td>\n",
       "      <td>2f3e0cf4-0847-4117-8f9b-2d328275fe36</td>\n",
       "      <td>Fully Paid</td>\n",
       "      <td>99999999</td>\n",
       "      <td>Short Term</td>\n",
       "      <td>747.0</td>\n",
       "      <td>10+ years</td>\n",
       "      <td>Rent</td>\n",
       "      <td>87389.0</td>\n",
       "      <td>Other</td>\n",
       "      <td>$968.57</td>\n",
       "      <td>28.6</td>\n",
       "      <td>33.0</td>\n",
       "      <td>12</td>\n",
       "      <td>0</td>\n",
       "      <td>7438</td>\n",
       "      <td>49258</td>\n",
       "      <td>0.0</td>\n",
       "      <td>0.0</td>\n",
       "    </tr>\n",
       "    <tr>\n",
       "      <th>192338</th>\n",
       "      <td>bf45e448-8909-41ac-adf5-2673ab7e0639</td>\n",
       "      <td>64525bad-9f2f-4bc9-8535-37bed966f1fe</td>\n",
       "      <td>Fully Paid</td>\n",
       "      <td>6627</td>\n",
       "      <td>Short Term</td>\n",
       "      <td>NaN</td>\n",
       "      <td>2 years</td>\n",
       "      <td>Home Mortgage</td>\n",
       "      <td>NaN</td>\n",
       "      <td>Other</td>\n",
       "      <td>$404.71</td>\n",
       "      <td>16.4</td>\n",
       "      <td>29.0</td>\n",
       "      <td>5</td>\n",
       "      <td>0</td>\n",
       "      <td>1968</td>\n",
       "      <td>4101</td>\n",
       "      <td>0.0</td>\n",
       "      <td>0.0</td>\n",
       "    </tr>\n",
       "    <tr>\n",
       "      <th>170812</th>\n",
       "      <td>a9e181bb-6e94-459f-9c12-a67203c00fef</td>\n",
       "      <td>87fbee13-0a5b-4194-a90a-4b8ecf95c2e8</td>\n",
       "      <td>Charged Off</td>\n",
       "      <td>5969</td>\n",
       "      <td>Short Term</td>\n",
       "      <td>702.0</td>\n",
       "      <td>10+ years</td>\n",
       "      <td>Rent</td>\n",
       "      <td>53725.0</td>\n",
       "      <td>Debt Consolidation</td>\n",
       "      <td>$316.53</td>\n",
       "      <td>30.1</td>\n",
       "      <td>NaN</td>\n",
       "      <td>11</td>\n",
       "      <td>1</td>\n",
       "      <td>8625</td>\n",
       "      <td>18508</td>\n",
       "      <td>1.0</td>\n",
       "      <td>0.0</td>\n",
       "    </tr>\n",
       "    <tr>\n",
       "      <th>90559</th>\n",
       "      <td>59fd8ebb-56c5-4e12-83cc-6e32b1ffb925</td>\n",
       "      <td>36e8d18f-1eca-43bc-a947-5a18a70ab9b9</td>\n",
       "      <td>Charged Off</td>\n",
       "      <td>15176</td>\n",
       "      <td>Short Term</td>\n",
       "      <td>7440.0</td>\n",
       "      <td>10+ years</td>\n",
       "      <td>Home Mortgage</td>\n",
       "      <td>42995.0</td>\n",
       "      <td>Home Improvements</td>\n",
       "      <td>$1,228.95</td>\n",
       "      <td>37.0</td>\n",
       "      <td>37.0</td>\n",
       "      <td>12</td>\n",
       "      <td>0</td>\n",
       "      <td>15524</td>\n",
       "      <td>30380</td>\n",
       "      <td>0.0</td>\n",
       "      <td>0.0</td>\n",
       "    </tr>\n",
       "    <tr>\n",
       "      <th>141758</th>\n",
       "      <td>8d066575-61f1-4530-bf84-4efe43c6de62</td>\n",
       "      <td>d1d59386-da93-4111-ba85-51952b1a52c8</td>\n",
       "      <td>Fully Paid</td>\n",
       "      <td>13133</td>\n",
       "      <td>Short Term</td>\n",
       "      <td>NaN</td>\n",
       "      <td>6 years</td>\n",
       "      <td>Rent</td>\n",
       "      <td>NaN</td>\n",
       "      <td>Debt Consolidation</td>\n",
       "      <td>$468.36</td>\n",
       "      <td>16.8</td>\n",
       "      <td>53.0</td>\n",
       "      <td>13</td>\n",
       "      <td>0</td>\n",
       "      <td>10707</td>\n",
       "      <td>19902</td>\n",
       "      <td>0.0</td>\n",
       "      <td>0.0</td>\n",
       "    </tr>\n",
       "    <tr>\n",
       "      <th>159415</th>\n",
       "      <td>9e8f170d-7143-46bc-8f29-446670ca9abc</td>\n",
       "      <td>3e382383-a34c-4f5e-a6b6-8780202ef85b</td>\n",
       "      <td>Charged Off</td>\n",
       "      <td>13124</td>\n",
       "      <td>Short Term</td>\n",
       "      <td>695.0</td>\n",
       "      <td>10+ years</td>\n",
       "      <td>Rent</td>\n",
       "      <td>60690.0</td>\n",
       "      <td>Buy House</td>\n",
       "      <td>$1,132.88</td>\n",
       "      <td>17.5</td>\n",
       "      <td>48.0</td>\n",
       "      <td>11</td>\n",
       "      <td>0</td>\n",
       "      <td>5260</td>\n",
       "      <td>15891</td>\n",
       "      <td>0.0</td>\n",
       "      <td>0.0</td>\n",
       "    </tr>\n",
       "    <tr>\n",
       "      <th>146303</th>\n",
       "      <td>916ba4b2-9281-4983-8009-c9cbdf335879</td>\n",
       "      <td>86062377-18db-49d9-82ff-acc6fcb81573</td>\n",
       "      <td>Fully Paid</td>\n",
       "      <td>34626</td>\n",
       "      <td>Long Term</td>\n",
       "      <td>741.0</td>\n",
       "      <td>10+ years</td>\n",
       "      <td>Home Mortgage</td>\n",
       "      <td>89037.0</td>\n",
       "      <td>Debt Consolidation</td>\n",
       "      <td>$1,032.09</td>\n",
       "      <td>19.5</td>\n",
       "      <td>NaN</td>\n",
       "      <td>15</td>\n",
       "      <td>0</td>\n",
       "      <td>27506</td>\n",
       "      <td>68422</td>\n",
       "      <td>0.0</td>\n",
       "      <td>0.0</td>\n",
       "    </tr>\n",
       "    <tr>\n",
       "      <th>32431</th>\n",
       "      <td>204dc89c-dee1-4fe9-b2d2-ae67a4b8a25a</td>\n",
       "      <td>721691f2-a9f3-494b-a7de-ce559d31f0a1</td>\n",
       "      <td>Charged Off</td>\n",
       "      <td>14034</td>\n",
       "      <td>Short Term</td>\n",
       "      <td>NaN</td>\n",
       "      <td>10+ years</td>\n",
       "      <td>Home Mortgage</td>\n",
       "      <td>NaN</td>\n",
       "      <td>Debt Consolidation</td>\n",
       "      <td>$801.64</td>\n",
       "      <td>19.0</td>\n",
       "      <td>6.0</td>\n",
       "      <td>12</td>\n",
       "      <td>0</td>\n",
       "      <td>4716</td>\n",
       "      <td>8173</td>\n",
       "      <td>0.0</td>\n",
       "      <td>0.0</td>\n",
       "    </tr>\n",
       "  </tbody>\n",
       "</table>\n",
       "</div>"
      ],
      "text/plain": [
       "                                     Loan ID  \\\n",
       "49549   313c9623-7cd5-4ce4-b0f9-061edda6e766   \n",
       "28296   1c50477b-bbd9-4819-9559-4abe6f452bdc   \n",
       "171607  aa9ff141-96cb-4ad9-95a0-48ff5ded3180   \n",
       "192338  bf45e448-8909-41ac-adf5-2673ab7e0639   \n",
       "170812  a9e181bb-6e94-459f-9c12-a67203c00fef   \n",
       "90559   59fd8ebb-56c5-4e12-83cc-6e32b1ffb925   \n",
       "141758  8d066575-61f1-4530-bf84-4efe43c6de62   \n",
       "159415  9e8f170d-7143-46bc-8f29-446670ca9abc   \n",
       "146303  916ba4b2-9281-4983-8009-c9cbdf335879   \n",
       "32431   204dc89c-dee1-4fe9-b2d2-ae67a4b8a25a   \n",
       "\n",
       "                                 Customer ID  Loan Status  \\\n",
       "49549   6cb91ec6-8d49-4296-88c9-47182c1f5a89   Fully Paid   \n",
       "28296   37fb11b8-abe5-46e4-964a-a99c5acb4ab8   Fully Paid   \n",
       "171607  2f3e0cf4-0847-4117-8f9b-2d328275fe36   Fully Paid   \n",
       "192338  64525bad-9f2f-4bc9-8535-37bed966f1fe   Fully Paid   \n",
       "170812  87fbee13-0a5b-4194-a90a-4b8ecf95c2e8  Charged Off   \n",
       "90559   36e8d18f-1eca-43bc-a947-5a18a70ab9b9  Charged Off   \n",
       "141758  d1d59386-da93-4111-ba85-51952b1a52c8   Fully Paid   \n",
       "159415  3e382383-a34c-4f5e-a6b6-8780202ef85b  Charged Off   \n",
       "146303  86062377-18db-49d9-82ff-acc6fcb81573   Fully Paid   \n",
       "32431   721691f2-a9f3-494b-a7de-ce559d31f0a1  Charged Off   \n",
       "\n",
       "        Current Loan Amount        Term  Credit Score Years in current job  \\\n",
       "49549                  8058  Short Term           NaN              2 years   \n",
       "28296                 25320  Short Term         747.0            10+ years   \n",
       "171607             99999999  Short Term         747.0            10+ years   \n",
       "192338                 6627  Short Term           NaN              2 years   \n",
       "170812                 5969  Short Term         702.0            10+ years   \n",
       "90559                 15176  Short Term        7440.0            10+ years   \n",
       "141758                13133  Short Term           NaN              6 years   \n",
       "159415                13124  Short Term         695.0            10+ years   \n",
       "146303                34626   Long Term         741.0            10+ years   \n",
       "32431                 14034  Short Term           NaN            10+ years   \n",
       "\n",
       "       Home Ownership  Annual Income             Purpose Monthly Debt  \\\n",
       "49549   Home Mortgage            NaN  Debt Consolidation   $1,245.65    \n",
       "28296   Home Mortgage       115459.0  Debt Consolidation   $2,107.13    \n",
       "171607           Rent        87389.0               Other      $968.57   \n",
       "192338  Home Mortgage            NaN               Other      $404.71   \n",
       "170812           Rent        53725.0  Debt Consolidation      $316.53   \n",
       "90559   Home Mortgage        42995.0   Home Improvements   $1,228.95    \n",
       "141758           Rent            NaN  Debt Consolidation      $468.36   \n",
       "159415           Rent        60690.0           Buy House   $1,132.88    \n",
       "146303  Home Mortgage        89037.0  Debt Consolidation   $1,032.09    \n",
       "32431   Home Mortgage            NaN  Debt Consolidation      $801.64   \n",
       "\n",
       "        Years of Credit History  Months since last delinquent  \\\n",
       "49549                      14.3                          64.0   \n",
       "28296                      21.6                          54.0   \n",
       "171607                     28.6                          33.0   \n",
       "192338                     16.4                          29.0   \n",
       "170812                     30.1                           NaN   \n",
       "90559                      37.0                          37.0   \n",
       "141758                     16.8                          53.0   \n",
       "159415                     17.5                          48.0   \n",
       "146303                     19.5                           NaN   \n",
       "32431                      19.0                           6.0   \n",
       "\n",
       "        Number of Open Accounts  Number of Credit Problems  \\\n",
       "49549                        15                          0   \n",
       "28296                        17                          0   \n",
       "171607                       12                          0   \n",
       "192338                        5                          0   \n",
       "170812                       11                          1   \n",
       "90559                        12                          0   \n",
       "141758                       13                          0   \n",
       "159415                       11                          0   \n",
       "146303                       15                          0   \n",
       "32431                        12                          0   \n",
       "\n",
       "        Current Credit Balance Maximum Open Credit  Bankruptcies  Tax Liens  \n",
       "49549                     8696               16919           0.0        0.0  \n",
       "28296                    22823               67926           0.0        0.0  \n",
       "171607                    7438               49258           0.0        0.0  \n",
       "192338                    1968                4101           0.0        0.0  \n",
       "170812                    8625               18508           1.0        0.0  \n",
       "90559                    15524               30380           0.0        0.0  \n",
       "141758                   10707               19902           0.0        0.0  \n",
       "159415                    5260               15891           0.0        0.0  \n",
       "146303                   27506               68422           0.0        0.0  \n",
       "32431                     4716                8173           0.0        0.0  "
      ]
     },
     "execution_count": 4,
     "metadata": {},
     "output_type": "execute_result"
    }
   ],
   "source": [
    "df.sample(10)#rastgele 10 satır getirir."
   ]
  },
  {
   "cell_type": "code",
   "execution_count": 5,
   "metadata": {
    "colab": {
     "base_uri": "https://localhost:8080/",
     "height": 476
    },
    "id": "ytfShqw3RgE4",
    "outputId": "fa172b35-0576-4624-f428-1e4a8946a618"
   },
   "outputs": [
    {
     "data": {
      "text/html": [
       "<div>\n",
       "<style scoped>\n",
       "    .dataframe tbody tr th:only-of-type {\n",
       "        vertical-align: middle;\n",
       "    }\n",
       "\n",
       "    .dataframe tbody tr th {\n",
       "        vertical-align: top;\n",
       "    }\n",
       "\n",
       "    .dataframe thead th {\n",
       "        text-align: right;\n",
       "    }\n",
       "</style>\n",
       "<table border=\"1\" class=\"dataframe\">\n",
       "  <thead>\n",
       "    <tr style=\"text-align: right;\">\n",
       "      <th></th>\n",
       "      <th>Current Loan Amount</th>\n",
       "      <th>Credit Score</th>\n",
       "      <th>Annual Income</th>\n",
       "      <th>Years of Credit History</th>\n",
       "      <th>Months since last delinquent</th>\n",
       "      <th>Number of Open Accounts</th>\n",
       "      <th>Number of Credit Problems</th>\n",
       "      <th>Current Credit Balance</th>\n",
       "      <th>Bankruptcies</th>\n",
       "      <th>Tax Liens</th>\n",
       "    </tr>\n",
       "  </thead>\n",
       "  <tbody>\n",
       "    <tr>\n",
       "      <th>Current Loan Amount</th>\n",
       "      <td>1.000000</td>\n",
       "      <td>-0.139743</td>\n",
       "      <td>0.024069</td>\n",
       "      <td>0.014725</td>\n",
       "      <td>0.003488</td>\n",
       "      <td>-0.003094</td>\n",
       "      <td>-0.000062</td>\n",
       "      <td>0.003138</td>\n",
       "      <td>0.003576</td>\n",
       "      <td>-0.003069</td>\n",
       "    </tr>\n",
       "    <tr>\n",
       "      <th>Credit Score</th>\n",
       "      <td>-0.139743</td>\n",
       "      <td>1.000000</td>\n",
       "      <td>-0.033221</td>\n",
       "      <td>-0.011658</td>\n",
       "      <td>-0.007994</td>\n",
       "      <td>0.008124</td>\n",
       "      <td>0.000777</td>\n",
       "      <td>-0.003263</td>\n",
       "      <td>-0.003426</td>\n",
       "      <td>0.004381</td>\n",
       "    </tr>\n",
       "    <tr>\n",
       "      <th>Annual Income</th>\n",
       "      <td>0.024069</td>\n",
       "      <td>-0.033221</td>\n",
       "      <td>1.000000</td>\n",
       "      <td>0.146859</td>\n",
       "      <td>-0.059675</td>\n",
       "      <td>0.140463</td>\n",
       "      <td>-0.013672</td>\n",
       "      <td>0.292165</td>\n",
       "      <td>-0.044837</td>\n",
       "      <td>0.038185</td>\n",
       "    </tr>\n",
       "    <tr>\n",
       "      <th>Years of Credit History</th>\n",
       "      <td>0.014725</td>\n",
       "      <td>-0.011658</td>\n",
       "      <td>0.146859</td>\n",
       "      <td>1.000000</td>\n",
       "      <td>-0.039695</td>\n",
       "      <td>0.128033</td>\n",
       "      <td>0.061251</td>\n",
       "      <td>0.201001</td>\n",
       "      <td>0.062049</td>\n",
       "      <td>0.020915</td>\n",
       "    </tr>\n",
       "    <tr>\n",
       "      <th>Months since last delinquent</th>\n",
       "      <td>0.003488</td>\n",
       "      <td>-0.007994</td>\n",
       "      <td>-0.059675</td>\n",
       "      <td>-0.039695</td>\n",
       "      <td>1.000000</td>\n",
       "      <td>-0.035803</td>\n",
       "      <td>0.088612</td>\n",
       "      <td>-0.024292</td>\n",
       "      <td>0.112907</td>\n",
       "      <td>0.002730</td>\n",
       "    </tr>\n",
       "    <tr>\n",
       "      <th>Number of Open Accounts</th>\n",
       "      <td>-0.003094</td>\n",
       "      <td>0.008124</td>\n",
       "      <td>0.140463</td>\n",
       "      <td>0.128033</td>\n",
       "      <td>-0.035803</td>\n",
       "      <td>1.000000</td>\n",
       "      <td>-0.013731</td>\n",
       "      <td>0.222763</td>\n",
       "      <td>-0.022805</td>\n",
       "      <td>0.005754</td>\n",
       "    </tr>\n",
       "    <tr>\n",
       "      <th>Number of Credit Problems</th>\n",
       "      <td>-0.000062</td>\n",
       "      <td>0.000777</td>\n",
       "      <td>-0.013672</td>\n",
       "      <td>0.061251</td>\n",
       "      <td>0.088612</td>\n",
       "      <td>-0.013731</td>\n",
       "      <td>1.000000</td>\n",
       "      <td>-0.103814</td>\n",
       "      <td>0.755866</td>\n",
       "      <td>0.584917</td>\n",
       "    </tr>\n",
       "    <tr>\n",
       "      <th>Current Credit Balance</th>\n",
       "      <td>0.003138</td>\n",
       "      <td>-0.003263</td>\n",
       "      <td>0.292165</td>\n",
       "      <td>0.201001</td>\n",
       "      <td>-0.024292</td>\n",
       "      <td>0.222763</td>\n",
       "      <td>-0.103814</td>\n",
       "      <td>1.000000</td>\n",
       "      <td>-0.117995</td>\n",
       "      <td>-0.011118</td>\n",
       "    </tr>\n",
       "    <tr>\n",
       "      <th>Bankruptcies</th>\n",
       "      <td>0.003576</td>\n",
       "      <td>-0.003426</td>\n",
       "      <td>-0.044837</td>\n",
       "      <td>0.062049</td>\n",
       "      <td>0.112907</td>\n",
       "      <td>-0.022805</td>\n",
       "      <td>0.755866</td>\n",
       "      <td>-0.117995</td>\n",
       "      <td>1.000000</td>\n",
       "      <td>0.046160</td>\n",
       "    </tr>\n",
       "    <tr>\n",
       "      <th>Tax Liens</th>\n",
       "      <td>-0.003069</td>\n",
       "      <td>0.004381</td>\n",
       "      <td>0.038185</td>\n",
       "      <td>0.020915</td>\n",
       "      <td>0.002730</td>\n",
       "      <td>0.005754</td>\n",
       "      <td>0.584917</td>\n",
       "      <td>-0.011118</td>\n",
       "      <td>0.046160</td>\n",
       "      <td>1.000000</td>\n",
       "    </tr>\n",
       "  </tbody>\n",
       "</table>\n",
       "</div>"
      ],
      "text/plain": [
       "                              Current Loan Amount  Credit Score  \\\n",
       "Current Loan Amount                      1.000000     -0.139743   \n",
       "Credit Score                            -0.139743      1.000000   \n",
       "Annual Income                            0.024069     -0.033221   \n",
       "Years of Credit History                  0.014725     -0.011658   \n",
       "Months since last delinquent             0.003488     -0.007994   \n",
       "Number of Open Accounts                 -0.003094      0.008124   \n",
       "Number of Credit Problems               -0.000062      0.000777   \n",
       "Current Credit Balance                   0.003138     -0.003263   \n",
       "Bankruptcies                             0.003576     -0.003426   \n",
       "Tax Liens                               -0.003069      0.004381   \n",
       "\n",
       "                              Annual Income  Years of Credit History  \\\n",
       "Current Loan Amount                0.024069                 0.014725   \n",
       "Credit Score                      -0.033221                -0.011658   \n",
       "Annual Income                      1.000000                 0.146859   \n",
       "Years of Credit History            0.146859                 1.000000   \n",
       "Months since last delinquent      -0.059675                -0.039695   \n",
       "Number of Open Accounts            0.140463                 0.128033   \n",
       "Number of Credit Problems         -0.013672                 0.061251   \n",
       "Current Credit Balance             0.292165                 0.201001   \n",
       "Bankruptcies                      -0.044837                 0.062049   \n",
       "Tax Liens                          0.038185                 0.020915   \n",
       "\n",
       "                              Months since last delinquent  \\\n",
       "Current Loan Amount                               0.003488   \n",
       "Credit Score                                     -0.007994   \n",
       "Annual Income                                    -0.059675   \n",
       "Years of Credit History                          -0.039695   \n",
       "Months since last delinquent                      1.000000   \n",
       "Number of Open Accounts                          -0.035803   \n",
       "Number of Credit Problems                         0.088612   \n",
       "Current Credit Balance                           -0.024292   \n",
       "Bankruptcies                                      0.112907   \n",
       "Tax Liens                                         0.002730   \n",
       "\n",
       "                              Number of Open Accounts  \\\n",
       "Current Loan Amount                         -0.003094   \n",
       "Credit Score                                 0.008124   \n",
       "Annual Income                                0.140463   \n",
       "Years of Credit History                      0.128033   \n",
       "Months since last delinquent                -0.035803   \n",
       "Number of Open Accounts                      1.000000   \n",
       "Number of Credit Problems                   -0.013731   \n",
       "Current Credit Balance                       0.222763   \n",
       "Bankruptcies                                -0.022805   \n",
       "Tax Liens                                    0.005754   \n",
       "\n",
       "                              Number of Credit Problems  \\\n",
       "Current Loan Amount                           -0.000062   \n",
       "Credit Score                                   0.000777   \n",
       "Annual Income                                 -0.013672   \n",
       "Years of Credit History                        0.061251   \n",
       "Months since last delinquent                   0.088612   \n",
       "Number of Open Accounts                       -0.013731   \n",
       "Number of Credit Problems                      1.000000   \n",
       "Current Credit Balance                        -0.103814   \n",
       "Bankruptcies                                   0.755866   \n",
       "Tax Liens                                      0.584917   \n",
       "\n",
       "                              Current Credit Balance  Bankruptcies  Tax Liens  \n",
       "Current Loan Amount                         0.003138      0.003576  -0.003069  \n",
       "Credit Score                               -0.003263     -0.003426   0.004381  \n",
       "Annual Income                               0.292165     -0.044837   0.038185  \n",
       "Years of Credit History                     0.201001      0.062049   0.020915  \n",
       "Months since last delinquent               -0.024292      0.112907   0.002730  \n",
       "Number of Open Accounts                     0.222763     -0.022805   0.005754  \n",
       "Number of Credit Problems                  -0.103814      0.755866   0.584917  \n",
       "Current Credit Balance                      1.000000     -0.117995  -0.011118  \n",
       "Bankruptcies                               -0.117995      1.000000   0.046160  \n",
       "Tax Liens                                  -0.011118      0.046160   1.000000  "
      ]
     },
     "execution_count": 5,
     "metadata": {},
     "output_type": "execute_result"
    }
   ],
   "source": [
    "df.corr()#sütunların birbiriyle olan korelasyonunu gösterir"
   ]
  },
  {
   "cell_type": "code",
   "execution_count": 6,
   "metadata": {
    "id": "xsAxGuyQoLZH"
   },
   "outputs": [],
   "source": [
    "df[\"Loan Status\"]=df[\"Loan Status\"].replace(['Fully Paid','Charged Off'],[1,0])#loan status sütunundaki Fully Paid ve Charged Off seçeneklerii 1 veya 0 yapar."
   ]
  },
  {
   "cell_type": "code",
   "execution_count": 7,
   "metadata": {
    "colab": {
     "base_uri": "https://localhost:8080/"
    },
    "id": "CNEqNZqopCHC",
    "outputId": "20441e81-9671-4861-e594-44b8ff85864d"
   },
   "outputs": [
    {
     "data": {
      "text/plain": [
       "Loan Status                     1.000000\n",
       "Credit Score                    0.440307\n",
       "Current Loan Amount             0.269804\n",
       "Annual Income                   0.070328\n",
       "Years of Credit History         0.035548\n",
       "Months since last delinquent    0.023541\n",
       "Number of Open Accounts         0.020787\n",
       "Tax Liens                       0.012585\n",
       "Number of Credit Problems       0.010179\n",
       "Current Credit Balance          0.008838\n",
       "Bankruptcies                    0.001154\n",
       "Name: Loan Status, dtype: float64"
      ]
     },
     "execution_count": 7,
     "metadata": {},
     "output_type": "execute_result"
    }
   ],
   "source": [
    "abs(df.corr()['Loan Status']).sort_values(ascending=False)#korelasyonu büyükten küçüğe mutlak alarak sıralar."
   ]
  },
  {
   "cell_type": "code",
   "execution_count": 8,
   "metadata": {
    "colab": {
     "base_uri": "https://localhost:8080/",
     "height": 361
    },
    "id": "mT4Eh50-oGDU",
    "outputId": "bdcffae1-b5c6-4d1c-8598-f2f47a47bd25"
   },
   "outputs": [
    {
     "data": {
      "text/html": [
       "<div>\n",
       "<style scoped>\n",
       "    .dataframe tbody tr th:only-of-type {\n",
       "        vertical-align: middle;\n",
       "    }\n",
       "\n",
       "    .dataframe tbody tr th {\n",
       "        vertical-align: top;\n",
       "    }\n",
       "\n",
       "    .dataframe thead th {\n",
       "        text-align: right;\n",
       "    }\n",
       "</style>\n",
       "<table border=\"1\" class=\"dataframe\">\n",
       "  <thead>\n",
       "    <tr style=\"text-align: right;\">\n",
       "      <th></th>\n",
       "      <th>Loan Status</th>\n",
       "      <th>Current Loan Amount</th>\n",
       "      <th>Credit Score</th>\n",
       "      <th>Annual Income</th>\n",
       "      <th>Years of Credit History</th>\n",
       "      <th>Months since last delinquent</th>\n",
       "      <th>Number of Open Accounts</th>\n",
       "      <th>Number of Credit Problems</th>\n",
       "      <th>Current Credit Balance</th>\n",
       "      <th>Bankruptcies</th>\n",
       "      <th>Tax Liens</th>\n",
       "    </tr>\n",
       "  </thead>\n",
       "  <tbody>\n",
       "    <tr>\n",
       "      <th>count</th>\n",
       "      <td>256984.000000</td>\n",
       "      <td>2.569840e+05</td>\n",
       "      <td>195308.000000</td>\n",
       "      <td>1.953080e+05</td>\n",
       "      <td>256984.000000</td>\n",
       "      <td>116601.000000</td>\n",
       "      <td>256984.000000</td>\n",
       "      <td>256984.000000</td>\n",
       "      <td>2.569840e+05</td>\n",
       "      <td>256455.000000</td>\n",
       "      <td>256961.000000</td>\n",
       "    </tr>\n",
       "    <tr>\n",
       "      <th>mean</th>\n",
       "      <td>0.685611</td>\n",
       "      <td>1.371331e+07</td>\n",
       "      <td>1251.116099</td>\n",
       "      <td>7.195272e+04</td>\n",
       "      <td>18.290195</td>\n",
       "      <td>34.881450</td>\n",
       "      <td>11.106267</td>\n",
       "      <td>0.156628</td>\n",
       "      <td>1.540656e+04</td>\n",
       "      <td>0.110316</td>\n",
       "      <td>0.027203</td>\n",
       "    </tr>\n",
       "    <tr>\n",
       "      <th>std</th>\n",
       "      <td>0.464273</td>\n",
       "      <td>3.438131e+07</td>\n",
       "      <td>1762.016848</td>\n",
       "      <td>5.887757e+04</td>\n",
       "      <td>7.075747</td>\n",
       "      <td>21.854165</td>\n",
       "      <td>4.982982</td>\n",
       "      <td>0.460731</td>\n",
       "      <td>1.966506e+04</td>\n",
       "      <td>0.336229</td>\n",
       "      <td>0.245950</td>\n",
       "    </tr>\n",
       "    <tr>\n",
       "      <th>min</th>\n",
       "      <td>0.000000</td>\n",
       "      <td>5.050000e+02</td>\n",
       "      <td>585.000000</td>\n",
       "      <td>0.000000e+00</td>\n",
       "      <td>3.400000</td>\n",
       "      <td>0.000000</td>\n",
       "      <td>0.000000</td>\n",
       "      <td>0.000000</td>\n",
       "      <td>0.000000e+00</td>\n",
       "      <td>0.000000</td>\n",
       "      <td>0.000000</td>\n",
       "    </tr>\n",
       "    <tr>\n",
       "      <th>25%</th>\n",
       "      <td>0.000000</td>\n",
       "      <td>8.299000e+03</td>\n",
       "      <td>714.000000</td>\n",
       "      <td>4.432100e+04</td>\n",
       "      <td>13.500000</td>\n",
       "      <td>16.000000</td>\n",
       "      <td>8.000000</td>\n",
       "      <td>0.000000</td>\n",
       "      <td>5.974000e+03</td>\n",
       "      <td>0.000000</td>\n",
       "      <td>0.000000</td>\n",
       "    </tr>\n",
       "    <tr>\n",
       "      <th>50%</th>\n",
       "      <td>1.000000</td>\n",
       "      <td>1.429800e+04</td>\n",
       "      <td>733.000000</td>\n",
       "      <td>6.124200e+04</td>\n",
       "      <td>17.000000</td>\n",
       "      <td>32.000000</td>\n",
       "      <td>10.000000</td>\n",
       "      <td>0.000000</td>\n",
       "      <td>1.107800e+04</td>\n",
       "      <td>0.000000</td>\n",
       "      <td>0.000000</td>\n",
       "    </tr>\n",
       "    <tr>\n",
       "      <th>75%</th>\n",
       "      <td>1.000000</td>\n",
       "      <td>2.436700e+04</td>\n",
       "      <td>744.000000</td>\n",
       "      <td>8.646200e+04</td>\n",
       "      <td>21.700000</td>\n",
       "      <td>51.000000</td>\n",
       "      <td>14.000000</td>\n",
       "      <td>0.000000</td>\n",
       "      <td>1.931900e+04</td>\n",
       "      <td>0.000000</td>\n",
       "      <td>0.000000</td>\n",
       "    </tr>\n",
       "    <tr>\n",
       "      <th>max</th>\n",
       "      <td>1.000000</td>\n",
       "      <td>1.000000e+08</td>\n",
       "      <td>7510.000000</td>\n",
       "      <td>8.713547e+06</td>\n",
       "      <td>70.500000</td>\n",
       "      <td>176.000000</td>\n",
       "      <td>76.000000</td>\n",
       "      <td>11.000000</td>\n",
       "      <td>1.731412e+06</td>\n",
       "      <td>7.000000</td>\n",
       "      <td>11.000000</td>\n",
       "    </tr>\n",
       "  </tbody>\n",
       "</table>\n",
       "</div>"
      ],
      "text/plain": [
       "         Loan Status  Current Loan Amount   Credit Score  Annual Income  \\\n",
       "count  256984.000000         2.569840e+05  195308.000000   1.953080e+05   \n",
       "mean        0.685611         1.371331e+07    1251.116099   7.195272e+04   \n",
       "std         0.464273         3.438131e+07    1762.016848   5.887757e+04   \n",
       "min         0.000000         5.050000e+02     585.000000   0.000000e+00   \n",
       "25%         0.000000         8.299000e+03     714.000000   4.432100e+04   \n",
       "50%         1.000000         1.429800e+04     733.000000   6.124200e+04   \n",
       "75%         1.000000         2.436700e+04     744.000000   8.646200e+04   \n",
       "max         1.000000         1.000000e+08    7510.000000   8.713547e+06   \n",
       "\n",
       "       Years of Credit History  Months since last delinquent  \\\n",
       "count            256984.000000                 116601.000000   \n",
       "mean                 18.290195                     34.881450   \n",
       "std                   7.075747                     21.854165   \n",
       "min                   3.400000                      0.000000   \n",
       "25%                  13.500000                     16.000000   \n",
       "50%                  17.000000                     32.000000   \n",
       "75%                  21.700000                     51.000000   \n",
       "max                  70.500000                    176.000000   \n",
       "\n",
       "       Number of Open Accounts  Number of Credit Problems  \\\n",
       "count            256984.000000              256984.000000   \n",
       "mean                 11.106267                   0.156628   \n",
       "std                   4.982982                   0.460731   \n",
       "min                   0.000000                   0.000000   \n",
       "25%                   8.000000                   0.000000   \n",
       "50%                  10.000000                   0.000000   \n",
       "75%                  14.000000                   0.000000   \n",
       "max                  76.000000                  11.000000   \n",
       "\n",
       "       Current Credit Balance   Bankruptcies      Tax Liens  \n",
       "count            2.569840e+05  256455.000000  256961.000000  \n",
       "mean             1.540656e+04       0.110316       0.027203  \n",
       "std              1.966506e+04       0.336229       0.245950  \n",
       "min              0.000000e+00       0.000000       0.000000  \n",
       "25%              5.974000e+03       0.000000       0.000000  \n",
       "50%              1.107800e+04       0.000000       0.000000  \n",
       "75%              1.931900e+04       0.000000       0.000000  \n",
       "max              1.731412e+06       7.000000      11.000000  "
      ]
     },
     "execution_count": 8,
     "metadata": {},
     "output_type": "execute_result"
    }
   ],
   "source": [
    "df.describe() #istatiksel verileri verir."
   ]
  },
  {
   "cell_type": "code",
   "execution_count": 9,
   "metadata": {
    "colab": {
     "base_uri": "https://localhost:8080/"
    },
    "id": "Na2OxtBKRmSx",
    "outputId": "ccfb4119-8151-43d7-e772-261eab9622ae"
   },
   "outputs": [
    {
     "data": {
      "text/plain": [
       "Loan ID                              0\n",
       "Customer ID                          0\n",
       "Loan Status                          0\n",
       "Current Loan Amount                  0\n",
       "Term                                 0\n",
       "Credit Score                     61676\n",
       "Years in current job             11476\n",
       "Home Ownership                       0\n",
       "Annual Income                    61676\n",
       "Purpose                              0\n",
       "Monthly Debt                         0\n",
       "Years of Credit History              0\n",
       "Months since last delinquent    140383\n",
       "Number of Open Accounts              0\n",
       "Number of Credit Problems            0\n",
       "Current Credit Balance               0\n",
       "Maximum Open Credit                  0\n",
       "Bankruptcies                       529\n",
       "Tax Liens                           23\n",
       "dtype: int64"
      ]
     },
     "execution_count": 9,
     "metadata": {},
     "output_type": "execute_result"
    }
   ],
   "source": [
    "df.isnull().sum()#sütunların boş veya doluluğunu gösterir."
   ]
  },
  {
   "cell_type": "code",
   "execution_count": 10,
   "metadata": {
    "colab": {
     "base_uri": "https://localhost:8080/"
    },
    "id": "ukh9pooQURK8",
    "outputId": "23b3de0c-b115-4051-bc41-d0071c1ca8bd"
   },
   "outputs": [
    {
     "data": {
      "text/plain": [
       "Credit Score                     61676\n",
       "Years in current job             11476\n",
       "Annual Income                    61676\n",
       "Months since last delinquent    140383\n",
       "Bankruptcies                       529\n",
       "Tax Liens                           23\n",
       "dtype: int64"
      ]
     },
     "execution_count": 10,
     "metadata": {},
     "output_type": "execute_result"
    }
   ],
   "source": [
    "empty=df.isnull().sum()\n",
    "empty[empty>0]#sadece boş olan sütunların kaç tane boş satırı olduğunu gösterir."
   ]
  },
  {
   "cell_type": "code",
   "execution_count": 11,
   "metadata": {
    "colab": {
     "base_uri": "https://localhost:8080/"
    },
    "id": "f9_DNyPmjuAc",
    "outputId": "831ec79e-f38e-4bea-a999-d4e7040f59ea"
   },
   "outputs": [
    {
     "name": "stdout",
     "output_type": "stream",
     "text": [
      "<class 'pandas.core.frame.DataFrame'>\n",
      "RangeIndex: 256984 entries, 0 to 256983\n",
      "Data columns (total 19 columns):\n",
      " #   Column                        Non-Null Count   Dtype  \n",
      "---  ------                        --------------   -----  \n",
      " 0   Loan ID                       256984 non-null  object \n",
      " 1   Customer ID                   256984 non-null  object \n",
      " 2   Loan Status                   256984 non-null  int64  \n",
      " 3   Current Loan Amount           256984 non-null  int64  \n",
      " 4   Term                          256984 non-null  object \n",
      " 5   Credit Score                  195308 non-null  float64\n",
      " 6   Years in current job          245508 non-null  object \n",
      " 7   Home Ownership                256984 non-null  object \n",
      " 8   Annual Income                 195308 non-null  float64\n",
      " 9   Purpose                       256984 non-null  object \n",
      " 10  Monthly Debt                  256984 non-null  object \n",
      " 11  Years of Credit History       256984 non-null  float64\n",
      " 12  Months since last delinquent  116601 non-null  float64\n",
      " 13  Number of Open Accounts       256984 non-null  int64  \n",
      " 14  Number of Credit Problems     256984 non-null  int64  \n",
      " 15  Current Credit Balance        256984 non-null  int64  \n",
      " 16  Maximum Open Credit           256984 non-null  object \n",
      " 17  Bankruptcies                  256455 non-null  float64\n",
      " 18  Tax Liens                     256961 non-null  float64\n",
      "dtypes: float64(6), int64(5), object(8)\n",
      "memory usage: 37.3+ MB\n"
     ]
    }
   ],
   "source": [
    "df.info()"
   ]
  },
  {
   "cell_type": "code",
   "execution_count": 12,
   "metadata": {
    "id": "awDsFEKVo6x0"
   },
   "outputs": [],
   "source": [
    "df[\"Credit Score\"]=df[\"Credit Score\"].fillna(df[\"Credit Score\"].median())"
   ]
  },
  {
   "cell_type": "code",
   "execution_count": 13,
   "metadata": {
    "id": "IYWHjqRRpjFl"
   },
   "outputs": [],
   "source": [
    "df['Years in current job']=df['Years in current job'].fillna('0')"
   ]
  },
  {
   "cell_type": "code",
   "execution_count": 14,
   "metadata": {
    "id": "t6VphD8ZZ7PA"
   },
   "outputs": [],
   "source": [
    "df['Years in current job']=df['Years in current job'].str.translate(({ord(i): None for i in '+years< '}))"
   ]
  },
  {
   "cell_type": "code",
   "execution_count": 15,
   "metadata": {
    "id": "CtmaadnDYqzJ"
   },
   "outputs": [],
   "source": [
    "df['Years in current job']=df['Years in current job'].astype(\"int\")"
   ]
  },
  {
   "cell_type": "code",
   "execution_count": 16,
   "metadata": {
    "colab": {
     "base_uri": "https://localhost:8080/"
    },
    "id": "pY1d_trWYz4A",
    "outputId": "76b475f0-a348-4572-a650-92b45ce9aea7"
   },
   "outputs": [
    {
     "name": "stdout",
     "output_type": "stream",
     "text": [
      "<class 'pandas.core.frame.DataFrame'>\n",
      "RangeIndex: 256984 entries, 0 to 256983\n",
      "Data columns (total 19 columns):\n",
      " #   Column                        Non-Null Count   Dtype  \n",
      "---  ------                        --------------   -----  \n",
      " 0   Loan ID                       256984 non-null  object \n",
      " 1   Customer ID                   256984 non-null  object \n",
      " 2   Loan Status                   256984 non-null  int64  \n",
      " 3   Current Loan Amount           256984 non-null  int64  \n",
      " 4   Term                          256984 non-null  object \n",
      " 5   Credit Score                  256984 non-null  float64\n",
      " 6   Years in current job          256984 non-null  int32  \n",
      " 7   Home Ownership                256984 non-null  object \n",
      " 8   Annual Income                 195308 non-null  float64\n",
      " 9   Purpose                       256984 non-null  object \n",
      " 10  Monthly Debt                  256984 non-null  object \n",
      " 11  Years of Credit History       256984 non-null  float64\n",
      " 12  Months since last delinquent  116601 non-null  float64\n",
      " 13  Number of Open Accounts       256984 non-null  int64  \n",
      " 14  Number of Credit Problems     256984 non-null  int64  \n",
      " 15  Current Credit Balance        256984 non-null  int64  \n",
      " 16  Maximum Open Credit           256984 non-null  object \n",
      " 17  Bankruptcies                  256455 non-null  float64\n",
      " 18  Tax Liens                     256961 non-null  float64\n",
      "dtypes: float64(6), int32(1), int64(5), object(7)\n",
      "memory usage: 36.3+ MB\n"
     ]
    }
   ],
   "source": [
    "df.info()"
   ]
  },
  {
   "cell_type": "code",
   "execution_count": 17,
   "metadata": {
    "id": "DlZyxMarZEIR"
   },
   "outputs": [],
   "source": [
    "df.Bankruptcies=df.Bankruptcies.fillna('0')"
   ]
  },
  {
   "cell_type": "code",
   "execution_count": 18,
   "metadata": {
    "id": "0ROTB76AcId1"
   },
   "outputs": [],
   "source": [
    "df[\"Tax Liens\"]=df[\"Tax Liens\"].fillna('0')"
   ]
  },
  {
   "cell_type": "code",
   "execution_count": 19,
   "metadata": {
    "id": "cC4Hu8HVdSkF"
   },
   "outputs": [],
   "source": [
    "df['Annual Income']=df['Annual Income'].fillna(df['Annual Income'].median())"
   ]
  },
  {
   "cell_type": "code",
   "execution_count": 20,
   "metadata": {
    "id": "PxPEB2i0d5U5"
   },
   "outputs": [],
   "source": [
    "df['Months since last delinquent']=df['Months since last delinquent'].fillna(df['Months since last delinquent'].median())"
   ]
  },
  {
   "cell_type": "code",
   "execution_count": 21,
   "metadata": {
    "colab": {
     "base_uri": "https://localhost:8080/"
    },
    "id": "biboSaxrdKGg",
    "outputId": "18946917-7c00-499c-8d9a-31f027ade99f"
   },
   "outputs": [
    {
     "data": {
      "text/plain": [
       "Series([], dtype: int64)"
      ]
     },
     "execution_count": 21,
     "metadata": {},
     "output_type": "execute_result"
    }
   ],
   "source": [
    "empty=df.isnull().sum()\n",
    "empty[empty>0]#sadece boş olan sütunların kaç tane boş satırı olduğunu gösterir."
   ]
  },
  {
   "cell_type": "code",
   "execution_count": 22,
   "metadata": {},
   "outputs": [
    {
     "data": {
      "text/plain": [
       "Index(['Loan ID', 'Customer ID', 'Loan Status', 'Current Loan Amount', 'Term',\n",
       "       'Credit Score', 'Years in current job', 'Home Ownership',\n",
       "       'Annual Income', 'Purpose', 'Monthly Debt', 'Years of Credit History',\n",
       "       'Months since last delinquent', 'Number of Open Accounts',\n",
       "       'Number of Credit Problems', 'Current Credit Balance',\n",
       "       'Maximum Open Credit', 'Bankruptcies', 'Tax Liens'],\n",
       "      dtype='object')"
      ]
     },
     "execution_count": 22,
     "metadata": {},
     "output_type": "execute_result"
    }
   ],
   "source": [
    "df.columns"
   ]
  },
  {
   "cell_type": "code",
   "execution_count": 23,
   "metadata": {
    "id": "XI3C8u1-eA3H"
   },
   "outputs": [],
   "source": [
    "x=df[['Credit Score','Current Loan Amount','Years in current job','Annual Income','Home Ownership','Term','Purpose','Number of Open Accounts',\n",
    "       'Number of Credit Problems', 'Current Credit Balance','Bankruptcies', 'Tax Liens']]\n",
    "y=df['Loan Status']"
   ]
  },
  {
   "cell_type": "code",
   "execution_count": 24,
   "metadata": {
    "id": "5GHBNvEJeVeP"
   },
   "outputs": [],
   "source": [
    "x=pd.get_dummies(x,drop_first=True)"
   ]
  },
  {
   "cell_type": "code",
   "execution_count": 25,
   "metadata": {
    "id": "kFCLZo2ofJAt"
   },
   "outputs": [],
   "source": [
    "from sklearn.naive_bayes import GaussianNB\n",
    "from sklearn.naive_bayes import BernoulliNB\n",
    "from sklearn.metrics import accuracy_score, precision_score, recall_score, f1_score, confusion_matrix, classification_report\n",
    "from sklearn.neighbors import KNeighborsClassifier\n",
    "from sklearn.ensemble import RandomForestClassifier\n",
    "from sklearn.ensemble import GradientBoostingClassifier\n",
    "from sklearn.linear_model import LogisticRegression\n",
    "from sklearn.tree import DecisionTreeClassifier\n",
    "\n",
    "from sklearn.model_selection import train_test_split\n"
   ]
  },
  {
   "cell_type": "code",
   "execution_count": 26,
   "metadata": {},
   "outputs": [],
   "source": [
    "x_train,x_test,y_train,y_test = train_test_split(x,y,test_size = 0.2, random_state = 42)"
   ]
  },
  {
   "cell_type": "code",
   "execution_count": 27,
   "metadata": {},
   "outputs": [
    {
     "data": {
      "text/plain": [
       "((205587, 40), (51397, 40), (205587,), (51397,))"
      ]
     },
     "execution_count": 27,
     "metadata": {},
     "output_type": "execute_result"
    }
   ],
   "source": [
    "x_train.shape,x_test.shape,y_train.shape,y_test.shape"
   ]
  },
  {
   "cell_type": "code",
   "execution_count": 28,
   "metadata": {},
   "outputs": [],
   "source": [
    "def classalgo_test(x_train,x_test,y_train,y_test): #classification\n",
    "      \n",
    "    g=GaussianNB()\n",
    "    b=BernoulliNB()\n",
    "    kc=KNeighborsClassifier()\n",
    "    lr=LogisticRegression()\n",
    "    dc=DecisionTreeClassifier()\n",
    "    rfc=RandomForestClassifier()\n",
    "    gbc=GradientBoostingClassifier()\n",
    "    \n",
    "    algos = [g,b,kc,lr,dc,rfc,gbc]\n",
    "    algo_names = ['GaussianNB','BernoulliNB','KNeighborsClassifier','LogisticRegression','DecisionTreeClassifier','RandomForestClassifier','GradientBoostingClassifier']\n",
    "    accsc=[]\n",
    "    precsc=[]\n",
    "    \n",
    "    result = pd.DataFrame(columns = ['Accuracy Score','Precision Score'],index = algo_names)\n",
    "    \n",
    "    for algo in algos:\n",
    "    \n",
    "        algo.fit(x_train,y_train)\n",
    "        pred=algo.predict(x_test)\n",
    "        accsc.append(accuracy_score(pred,y_test))\n",
    "        precsc.append(precision_score(pred,y_test))\n",
    "    \n",
    "    result['Accuracy Score'] = accsc\n",
    "    result['Precision Score'] = precsc\n",
    "        \n",
    "    return result.sort_values('Accuracy Score', ascending=False)"
   ]
  },
  {
   "cell_type": "code",
   "execution_count": 29,
   "metadata": {},
   "outputs": [
    {
     "data": {
      "text/html": [
       "<div>\n",
       "<style scoped>\n",
       "    .dataframe tbody tr th:only-of-type {\n",
       "        vertical-align: middle;\n",
       "    }\n",
       "\n",
       "    .dataframe tbody tr th {\n",
       "        vertical-align: top;\n",
       "    }\n",
       "\n",
       "    .dataframe thead th {\n",
       "        text-align: right;\n",
       "    }\n",
       "</style>\n",
       "<table border=\"1\" class=\"dataframe\">\n",
       "  <thead>\n",
       "    <tr style=\"text-align: right;\">\n",
       "      <th></th>\n",
       "      <th>Accuracy Score</th>\n",
       "      <th>Precision Score</th>\n",
       "    </tr>\n",
       "  </thead>\n",
       "  <tbody>\n",
       "    <tr>\n",
       "      <th>RandomForestClassifier</th>\n",
       "      <td>0.830691</td>\n",
       "      <td>0.929135</td>\n",
       "    </tr>\n",
       "    <tr>\n",
       "      <th>GradientBoostingClassifier</th>\n",
       "      <td>0.760686</td>\n",
       "      <td>0.950675</td>\n",
       "    </tr>\n",
       "    <tr>\n",
       "      <th>DecisionTreeClassifier</th>\n",
       "      <td>0.756348</td>\n",
       "      <td>0.791321</td>\n",
       "    </tr>\n",
       "    <tr>\n",
       "      <th>LogisticRegression</th>\n",
       "      <td>0.742281</td>\n",
       "      <td>0.975905</td>\n",
       "    </tr>\n",
       "    <tr>\n",
       "      <th>KNeighborsClassifier</th>\n",
       "      <td>0.718077</td>\n",
       "      <td>0.846918</td>\n",
       "    </tr>\n",
       "    <tr>\n",
       "      <th>BernoulliNB</th>\n",
       "      <td>0.692297</td>\n",
       "      <td>0.941480</td>\n",
       "    </tr>\n",
       "    <tr>\n",
       "      <th>GaussianNB</th>\n",
       "      <td>0.449034</td>\n",
       "      <td>0.196674</td>\n",
       "    </tr>\n",
       "  </tbody>\n",
       "</table>\n",
       "</div>"
      ],
      "text/plain": [
       "                            Accuracy Score  Precision Score\n",
       "RandomForestClassifier            0.830691         0.929135\n",
       "GradientBoostingClassifier        0.760686         0.950675\n",
       "DecisionTreeClassifier            0.756348         0.791321\n",
       "LogisticRegression                0.742281         0.975905\n",
       "KNeighborsClassifier              0.718077         0.846918\n",
       "BernoulliNB                       0.692297         0.941480\n",
       "GaussianNB                        0.449034         0.196674"
      ]
     },
     "execution_count": 29,
     "metadata": {},
     "output_type": "execute_result"
    }
   ],
   "source": [
    "classalgo_test(x_train,x_test,y_train,y_test)"
   ]
  },
  {
   "cell_type": "code",
   "execution_count": 30,
   "metadata": {},
   "outputs": [],
   "source": [
    "gbc=GradientBoostingClassifier()"
   ]
  },
  {
   "cell_type": "code",
   "execution_count": 31,
   "metadata": {},
   "outputs": [
    {
     "data": {
      "text/html": [
       "<style>#sk-container-id-1 {color: black;background-color: white;}#sk-container-id-1 pre{padding: 0;}#sk-container-id-1 div.sk-toggleable {background-color: white;}#sk-container-id-1 label.sk-toggleable__label {cursor: pointer;display: block;width: 100%;margin-bottom: 0;padding: 0.3em;box-sizing: border-box;text-align: center;}#sk-container-id-1 label.sk-toggleable__label-arrow:before {content: \"▸\";float: left;margin-right: 0.25em;color: #696969;}#sk-container-id-1 label.sk-toggleable__label-arrow:hover:before {color: black;}#sk-container-id-1 div.sk-estimator:hover label.sk-toggleable__label-arrow:before {color: black;}#sk-container-id-1 div.sk-toggleable__content {max-height: 0;max-width: 0;overflow: hidden;text-align: left;background-color: #f0f8ff;}#sk-container-id-1 div.sk-toggleable__content pre {margin: 0.2em;color: black;border-radius: 0.25em;background-color: #f0f8ff;}#sk-container-id-1 input.sk-toggleable__control:checked~div.sk-toggleable__content {max-height: 200px;max-width: 100%;overflow: auto;}#sk-container-id-1 input.sk-toggleable__control:checked~label.sk-toggleable__label-arrow:before {content: \"▾\";}#sk-container-id-1 div.sk-estimator input.sk-toggleable__control:checked~label.sk-toggleable__label {background-color: #d4ebff;}#sk-container-id-1 div.sk-label input.sk-toggleable__control:checked~label.sk-toggleable__label {background-color: #d4ebff;}#sk-container-id-1 input.sk-hidden--visually {border: 0;clip: rect(1px 1px 1px 1px);clip: rect(1px, 1px, 1px, 1px);height: 1px;margin: -1px;overflow: hidden;padding: 0;position: absolute;width: 1px;}#sk-container-id-1 div.sk-estimator {font-family: monospace;background-color: #f0f8ff;border: 1px dotted black;border-radius: 0.25em;box-sizing: border-box;margin-bottom: 0.5em;}#sk-container-id-1 div.sk-estimator:hover {background-color: #d4ebff;}#sk-container-id-1 div.sk-parallel-item::after {content: \"\";width: 100%;border-bottom: 1px solid gray;flex-grow: 1;}#sk-container-id-1 div.sk-label:hover label.sk-toggleable__label {background-color: #d4ebff;}#sk-container-id-1 div.sk-serial::before {content: \"\";position: absolute;border-left: 1px solid gray;box-sizing: border-box;top: 0;bottom: 0;left: 50%;z-index: 0;}#sk-container-id-1 div.sk-serial {display: flex;flex-direction: column;align-items: center;background-color: white;padding-right: 0.2em;padding-left: 0.2em;position: relative;}#sk-container-id-1 div.sk-item {position: relative;z-index: 1;}#sk-container-id-1 div.sk-parallel {display: flex;align-items: stretch;justify-content: center;background-color: white;position: relative;}#sk-container-id-1 div.sk-item::before, #sk-container-id-1 div.sk-parallel-item::before {content: \"\";position: absolute;border-left: 1px solid gray;box-sizing: border-box;top: 0;bottom: 0;left: 50%;z-index: -1;}#sk-container-id-1 div.sk-parallel-item {display: flex;flex-direction: column;z-index: 1;position: relative;background-color: white;}#sk-container-id-1 div.sk-parallel-item:first-child::after {align-self: flex-end;width: 50%;}#sk-container-id-1 div.sk-parallel-item:last-child::after {align-self: flex-start;width: 50%;}#sk-container-id-1 div.sk-parallel-item:only-child::after {width: 0;}#sk-container-id-1 div.sk-dashed-wrapped {border: 1px dashed gray;margin: 0 0.4em 0.5em 0.4em;box-sizing: border-box;padding-bottom: 0.4em;background-color: white;}#sk-container-id-1 div.sk-label label {font-family: monospace;font-weight: bold;display: inline-block;line-height: 1.2em;}#sk-container-id-1 div.sk-label-container {text-align: center;}#sk-container-id-1 div.sk-container {/* jupyter's `normalize.less` sets `[hidden] { display: none; }` but bootstrap.min.css set `[hidden] { display: none !important; }` so we also need the `!important` here to be able to override the default hidden behavior on the sphinx rendered scikit-learn.org. See: https://github.com/scikit-learn/scikit-learn/issues/21755 */display: inline-block !important;position: relative;}#sk-container-id-1 div.sk-text-repr-fallback {display: none;}</style><div id=\"sk-container-id-1\" class=\"sk-top-container\"><div class=\"sk-text-repr-fallback\"><pre>GradientBoostingClassifier()</pre><b>In a Jupyter environment, please rerun this cell to show the HTML representation or trust the notebook. <br />On GitHub, the HTML representation is unable to render, please try loading this page with nbviewer.org.</b></div><div class=\"sk-container\" hidden><div class=\"sk-item\"><div class=\"sk-estimator sk-toggleable\"><input class=\"sk-toggleable__control sk-hidden--visually\" id=\"sk-estimator-id-1\" type=\"checkbox\" checked><label for=\"sk-estimator-id-1\" class=\"sk-toggleable__label sk-toggleable__label-arrow\">GradientBoostingClassifier</label><div class=\"sk-toggleable__content\"><pre>GradientBoostingClassifier()</pre></div></div></div></div></div>"
      ],
      "text/plain": [
       "GradientBoostingClassifier()"
      ]
     },
     "execution_count": 31,
     "metadata": {},
     "output_type": "execute_result"
    }
   ],
   "source": [
    "gbc.fit(x_train,y_train)"
   ]
  },
  {
   "cell_type": "code",
   "execution_count": 32,
   "metadata": {},
   "outputs": [],
   "source": [
    "tahmin1=gbc.predict(x_test)"
   ]
  },
  {
   "cell_type": "code",
   "execution_count": 33,
   "metadata": {},
   "outputs": [
    {
     "name": "stdout",
     "output_type": "stream",
     "text": [
      "              precision    recall  f1-score   support\n",
      "\n",
      "           0       0.35      0.76      0.48      7337\n",
      "           1       0.95      0.76      0.84     44060\n",
      "\n",
      "    accuracy                           0.76     51397\n",
      "   macro avg       0.65      0.76      0.66     51397\n",
      "weighted avg       0.86      0.76      0.79     51397\n",
      "\n"
     ]
    }
   ],
   "source": [
    "print(classification_report(tahmin1,y_test))"
   ]
  },
  {
   "cell_type": "code",
   "execution_count": 34,
   "metadata": {},
   "outputs": [],
   "source": [
    "rfc=RandomForestClassifier()"
   ]
  },
  {
   "cell_type": "code",
   "execution_count": 35,
   "metadata": {},
   "outputs": [
    {
     "data": {
      "text/html": [
       "<style>#sk-container-id-2 {color: black;background-color: white;}#sk-container-id-2 pre{padding: 0;}#sk-container-id-2 div.sk-toggleable {background-color: white;}#sk-container-id-2 label.sk-toggleable__label {cursor: pointer;display: block;width: 100%;margin-bottom: 0;padding: 0.3em;box-sizing: border-box;text-align: center;}#sk-container-id-2 label.sk-toggleable__label-arrow:before {content: \"▸\";float: left;margin-right: 0.25em;color: #696969;}#sk-container-id-2 label.sk-toggleable__label-arrow:hover:before {color: black;}#sk-container-id-2 div.sk-estimator:hover label.sk-toggleable__label-arrow:before {color: black;}#sk-container-id-2 div.sk-toggleable__content {max-height: 0;max-width: 0;overflow: hidden;text-align: left;background-color: #f0f8ff;}#sk-container-id-2 div.sk-toggleable__content pre {margin: 0.2em;color: black;border-radius: 0.25em;background-color: #f0f8ff;}#sk-container-id-2 input.sk-toggleable__control:checked~div.sk-toggleable__content {max-height: 200px;max-width: 100%;overflow: auto;}#sk-container-id-2 input.sk-toggleable__control:checked~label.sk-toggleable__label-arrow:before {content: \"▾\";}#sk-container-id-2 div.sk-estimator input.sk-toggleable__control:checked~label.sk-toggleable__label {background-color: #d4ebff;}#sk-container-id-2 div.sk-label input.sk-toggleable__control:checked~label.sk-toggleable__label {background-color: #d4ebff;}#sk-container-id-2 input.sk-hidden--visually {border: 0;clip: rect(1px 1px 1px 1px);clip: rect(1px, 1px, 1px, 1px);height: 1px;margin: -1px;overflow: hidden;padding: 0;position: absolute;width: 1px;}#sk-container-id-2 div.sk-estimator {font-family: monospace;background-color: #f0f8ff;border: 1px dotted black;border-radius: 0.25em;box-sizing: border-box;margin-bottom: 0.5em;}#sk-container-id-2 div.sk-estimator:hover {background-color: #d4ebff;}#sk-container-id-2 div.sk-parallel-item::after {content: \"\";width: 100%;border-bottom: 1px solid gray;flex-grow: 1;}#sk-container-id-2 div.sk-label:hover label.sk-toggleable__label {background-color: #d4ebff;}#sk-container-id-2 div.sk-serial::before {content: \"\";position: absolute;border-left: 1px solid gray;box-sizing: border-box;top: 0;bottom: 0;left: 50%;z-index: 0;}#sk-container-id-2 div.sk-serial {display: flex;flex-direction: column;align-items: center;background-color: white;padding-right: 0.2em;padding-left: 0.2em;position: relative;}#sk-container-id-2 div.sk-item {position: relative;z-index: 1;}#sk-container-id-2 div.sk-parallel {display: flex;align-items: stretch;justify-content: center;background-color: white;position: relative;}#sk-container-id-2 div.sk-item::before, #sk-container-id-2 div.sk-parallel-item::before {content: \"\";position: absolute;border-left: 1px solid gray;box-sizing: border-box;top: 0;bottom: 0;left: 50%;z-index: -1;}#sk-container-id-2 div.sk-parallel-item {display: flex;flex-direction: column;z-index: 1;position: relative;background-color: white;}#sk-container-id-2 div.sk-parallel-item:first-child::after {align-self: flex-end;width: 50%;}#sk-container-id-2 div.sk-parallel-item:last-child::after {align-self: flex-start;width: 50%;}#sk-container-id-2 div.sk-parallel-item:only-child::after {width: 0;}#sk-container-id-2 div.sk-dashed-wrapped {border: 1px dashed gray;margin: 0 0.4em 0.5em 0.4em;box-sizing: border-box;padding-bottom: 0.4em;background-color: white;}#sk-container-id-2 div.sk-label label {font-family: monospace;font-weight: bold;display: inline-block;line-height: 1.2em;}#sk-container-id-2 div.sk-label-container {text-align: center;}#sk-container-id-2 div.sk-container {/* jupyter's `normalize.less` sets `[hidden] { display: none; }` but bootstrap.min.css set `[hidden] { display: none !important; }` so we also need the `!important` here to be able to override the default hidden behavior on the sphinx rendered scikit-learn.org. See: https://github.com/scikit-learn/scikit-learn/issues/21755 */display: inline-block !important;position: relative;}#sk-container-id-2 div.sk-text-repr-fallback {display: none;}</style><div id=\"sk-container-id-2\" class=\"sk-top-container\"><div class=\"sk-text-repr-fallback\"><pre>RandomForestClassifier()</pre><b>In a Jupyter environment, please rerun this cell to show the HTML representation or trust the notebook. <br />On GitHub, the HTML representation is unable to render, please try loading this page with nbviewer.org.</b></div><div class=\"sk-container\" hidden><div class=\"sk-item\"><div class=\"sk-estimator sk-toggleable\"><input class=\"sk-toggleable__control sk-hidden--visually\" id=\"sk-estimator-id-2\" type=\"checkbox\" checked><label for=\"sk-estimator-id-2\" class=\"sk-toggleable__label sk-toggleable__label-arrow\">RandomForestClassifier</label><div class=\"sk-toggleable__content\"><pre>RandomForestClassifier()</pre></div></div></div></div></div>"
      ],
      "text/plain": [
       "RandomForestClassifier()"
      ]
     },
     "execution_count": 35,
     "metadata": {},
     "output_type": "execute_result"
    }
   ],
   "source": [
    "rfc.fit(x_train,y_train)"
   ]
  },
  {
   "cell_type": "code",
   "execution_count": 36,
   "metadata": {},
   "outputs": [],
   "source": [
    "tahmin2=rfc.predict(x_test)"
   ]
  },
  {
   "cell_type": "code",
   "execution_count": 37,
   "metadata": {},
   "outputs": [
    {
     "name": "stdout",
     "output_type": "stream",
     "text": [
      "              precision    recall  f1-score   support\n",
      "\n",
      "           0       0.62      0.80      0.70     12503\n",
      "           1       0.93      0.84      0.88     38894\n",
      "\n",
      "    accuracy                           0.83     51397\n",
      "   macro avg       0.77      0.82      0.79     51397\n",
      "weighted avg       0.85      0.83      0.84     51397\n",
      "\n"
     ]
    }
   ],
   "source": [
    "print(classification_report(tahmin2,y_test))"
   ]
  },
  {
   "cell_type": "code",
   "execution_count": 38,
   "metadata": {},
   "outputs": [],
   "source": [
    "lr=LogisticRegression()"
   ]
  },
  {
   "cell_type": "code",
   "execution_count": 39,
   "metadata": {},
   "outputs": [
    {
     "data": {
      "text/html": [
       "<style>#sk-container-id-3 {color: black;background-color: white;}#sk-container-id-3 pre{padding: 0;}#sk-container-id-3 div.sk-toggleable {background-color: white;}#sk-container-id-3 label.sk-toggleable__label {cursor: pointer;display: block;width: 100%;margin-bottom: 0;padding: 0.3em;box-sizing: border-box;text-align: center;}#sk-container-id-3 label.sk-toggleable__label-arrow:before {content: \"▸\";float: left;margin-right: 0.25em;color: #696969;}#sk-container-id-3 label.sk-toggleable__label-arrow:hover:before {color: black;}#sk-container-id-3 div.sk-estimator:hover label.sk-toggleable__label-arrow:before {color: black;}#sk-container-id-3 div.sk-toggleable__content {max-height: 0;max-width: 0;overflow: hidden;text-align: left;background-color: #f0f8ff;}#sk-container-id-3 div.sk-toggleable__content pre {margin: 0.2em;color: black;border-radius: 0.25em;background-color: #f0f8ff;}#sk-container-id-3 input.sk-toggleable__control:checked~div.sk-toggleable__content {max-height: 200px;max-width: 100%;overflow: auto;}#sk-container-id-3 input.sk-toggleable__control:checked~label.sk-toggleable__label-arrow:before {content: \"▾\";}#sk-container-id-3 div.sk-estimator input.sk-toggleable__control:checked~label.sk-toggleable__label {background-color: #d4ebff;}#sk-container-id-3 div.sk-label input.sk-toggleable__control:checked~label.sk-toggleable__label {background-color: #d4ebff;}#sk-container-id-3 input.sk-hidden--visually {border: 0;clip: rect(1px 1px 1px 1px);clip: rect(1px, 1px, 1px, 1px);height: 1px;margin: -1px;overflow: hidden;padding: 0;position: absolute;width: 1px;}#sk-container-id-3 div.sk-estimator {font-family: monospace;background-color: #f0f8ff;border: 1px dotted black;border-radius: 0.25em;box-sizing: border-box;margin-bottom: 0.5em;}#sk-container-id-3 div.sk-estimator:hover {background-color: #d4ebff;}#sk-container-id-3 div.sk-parallel-item::after {content: \"\";width: 100%;border-bottom: 1px solid gray;flex-grow: 1;}#sk-container-id-3 div.sk-label:hover label.sk-toggleable__label {background-color: #d4ebff;}#sk-container-id-3 div.sk-serial::before {content: \"\";position: absolute;border-left: 1px solid gray;box-sizing: border-box;top: 0;bottom: 0;left: 50%;z-index: 0;}#sk-container-id-3 div.sk-serial {display: flex;flex-direction: column;align-items: center;background-color: white;padding-right: 0.2em;padding-left: 0.2em;position: relative;}#sk-container-id-3 div.sk-item {position: relative;z-index: 1;}#sk-container-id-3 div.sk-parallel {display: flex;align-items: stretch;justify-content: center;background-color: white;position: relative;}#sk-container-id-3 div.sk-item::before, #sk-container-id-3 div.sk-parallel-item::before {content: \"\";position: absolute;border-left: 1px solid gray;box-sizing: border-box;top: 0;bottom: 0;left: 50%;z-index: -1;}#sk-container-id-3 div.sk-parallel-item {display: flex;flex-direction: column;z-index: 1;position: relative;background-color: white;}#sk-container-id-3 div.sk-parallel-item:first-child::after {align-self: flex-end;width: 50%;}#sk-container-id-3 div.sk-parallel-item:last-child::after {align-self: flex-start;width: 50%;}#sk-container-id-3 div.sk-parallel-item:only-child::after {width: 0;}#sk-container-id-3 div.sk-dashed-wrapped {border: 1px dashed gray;margin: 0 0.4em 0.5em 0.4em;box-sizing: border-box;padding-bottom: 0.4em;background-color: white;}#sk-container-id-3 div.sk-label label {font-family: monospace;font-weight: bold;display: inline-block;line-height: 1.2em;}#sk-container-id-3 div.sk-label-container {text-align: center;}#sk-container-id-3 div.sk-container {/* jupyter's `normalize.less` sets `[hidden] { display: none; }` but bootstrap.min.css set `[hidden] { display: none !important; }` so we also need the `!important` here to be able to override the default hidden behavior on the sphinx rendered scikit-learn.org. See: https://github.com/scikit-learn/scikit-learn/issues/21755 */display: inline-block !important;position: relative;}#sk-container-id-3 div.sk-text-repr-fallback {display: none;}</style><div id=\"sk-container-id-3\" class=\"sk-top-container\"><div class=\"sk-text-repr-fallback\"><pre>LogisticRegression()</pre><b>In a Jupyter environment, please rerun this cell to show the HTML representation or trust the notebook. <br />On GitHub, the HTML representation is unable to render, please try loading this page with nbviewer.org.</b></div><div class=\"sk-container\" hidden><div class=\"sk-item\"><div class=\"sk-estimator sk-toggleable\"><input class=\"sk-toggleable__control sk-hidden--visually\" id=\"sk-estimator-id-3\" type=\"checkbox\" checked><label for=\"sk-estimator-id-3\" class=\"sk-toggleable__label sk-toggleable__label-arrow\">LogisticRegression</label><div class=\"sk-toggleable__content\"><pre>LogisticRegression()</pre></div></div></div></div></div>"
      ],
      "text/plain": [
       "LogisticRegression()"
      ]
     },
     "execution_count": 39,
     "metadata": {},
     "output_type": "execute_result"
    }
   ],
   "source": [
    "lr.fit(x_train,y_train)"
   ]
  },
  {
   "cell_type": "code",
   "execution_count": 40,
   "metadata": {},
   "outputs": [],
   "source": [
    "tahmin3=lr.predict(x_test)"
   ]
  },
  {
   "cell_type": "code",
   "execution_count": 41,
   "metadata": {},
   "outputs": [
    {
     "name": "stdout",
     "output_type": "stream",
     "text": [
      "              precision    recall  f1-score   support\n",
      "\n",
      "           0       0.23      0.82      0.36      4613\n",
      "           1       0.98      0.74      0.84     46784\n",
      "\n",
      "    accuracy                           0.74     51397\n",
      "   macro avg       0.60      0.78      0.60     51397\n",
      "weighted avg       0.91      0.74      0.80     51397\n",
      "\n"
     ]
    }
   ],
   "source": [
    "print(classification_report(tahmin3,y_test))"
   ]
  },
  {
   "cell_type": "code",
   "execution_count": 42,
   "metadata": {},
   "outputs": [
    {
     "data": {
      "text/plain": [
       "array([[ 3764,   849],\n",
       "       [12397, 34387]], dtype=int64)"
      ]
     },
     "execution_count": 42,
     "metadata": {},
     "output_type": "execute_result"
    }
   ],
   "source": [
    "confusion_matrix(tahmin3,y_test)"
   ]
  },
  {
   "cell_type": "code",
   "execution_count": 43,
   "metadata": {},
   "outputs": [
    {
     "data": {
      "text/plain": [
       "array([[ 9996,  2507],\n",
       "       [ 6165, 32729]], dtype=int64)"
      ]
     },
     "execution_count": 43,
     "metadata": {},
     "output_type": "execute_result"
    }
   ],
   "source": [
    "confusion_matrix(tahmin2,y_test)"
   ]
  },
  {
   "cell_type": "code",
   "execution_count": 44,
   "metadata": {},
   "outputs": [
    {
     "data": {
      "text/plain": [
       "array([[ 5599,  1738],\n",
       "       [10562, 33498]], dtype=int64)"
      ]
     },
     "execution_count": 44,
     "metadata": {},
     "output_type": "execute_result"
    }
   ],
   "source": [
    "confusion_matrix(tahmin1,y_test)"
   ]
  },
  {
   "cell_type": "code",
   "execution_count": null,
   "metadata": {},
   "outputs": [],
   "source": []
  }
 ],
 "metadata": {
  "colab": {
   "provenance": []
  },
  "kernelspec": {
   "display_name": "Python 3 (ipykernel)",
   "language": "python",
   "name": "python3"
  },
  "language_info": {
   "codemirror_mode": {
    "name": "ipython",
    "version": 3
   },
   "file_extension": ".py",
   "mimetype": "text/x-python",
   "name": "python",
   "nbconvert_exporter": "python",
   "pygments_lexer": "ipython3",
   "version": "3.9.12"
  }
 },
 "nbformat": 4,
 "nbformat_minor": 1
}
